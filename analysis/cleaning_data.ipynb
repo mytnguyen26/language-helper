{
 "cells": [
  {
   "cell_type": "code",
   "execution_count": 1,
   "metadata": {},
   "outputs": [
    {
     "name": "stderr",
     "output_type": "stream",
     "text": [
      "[nltk_data] Downloading package punkt to /Users/mynguyen/nltk_data...\n",
      "[nltk_data]   Package punkt is already up-to-date!\n"
     ]
    },
    {
     "data": {
      "text/plain": [
       "True"
      ]
     },
     "execution_count": 1,
     "metadata": {},
     "output_type": "execute_result"
    }
   ],
   "source": [
    "import os\n",
    "import pandas as pd\n",
    "from pandas import DataFrame\n",
    "import re\n",
    "import numpy as np\n",
    "import random\n",
    "import nltk\n",
    "from nltk import word_tokenize\n",
    "from typing import List, Dict, Any\n",
    "nltk.download('punkt')"
   ]
  },
  {
   "cell_type": "markdown",
   "metadata": {},
   "source": [
    "### Parsing: NYT article headline"
   ]
  },
  {
   "cell_type": "code",
   "execution_count": null,
   "metadata": {},
   "outputs": [],
   "source": [
    "PATH = \"../dataset/\"\n",
    "domain = \"article\"\n",
    "file = \"nyt/nyt-articles-2020.csv\"\n",
    "file_path = os.path.join(PATH,domain,file)\n"
   ]
  },
  {
   "cell_type": "code",
   "execution_count": null,
   "metadata": {},
   "outputs": [],
   "source": [
    "dataframe = pd.read_csv(file_path).reset_index()"
   ]
  },
  {
   "cell_type": "code",
   "execution_count": null,
   "metadata": {},
   "outputs": [],
   "source": [
    "# get Headline and second headline\n",
    "dataframe.head()"
   ]
  },
  {
   "cell_type": "code",
   "execution_count": null,
   "metadata": {},
   "outputs": [],
   "source": [
    "top_newdesks = dataframe.newsdesk.value_counts()\n",
    "# .index[:5]\n",
    "print(top_newdesks)\n",
    "\n",
    "top_newdesks = [\"Business\"]"
   ]
  },
  {
   "cell_type": "code",
   "execution_count": null,
   "metadata": {},
   "outputs": [],
   "source": [
    "dataframe_filtered = dataframe[dataframe[\"newsdesk\"].isin(top_newdesks)].copy()"
   ]
  },
  {
   "cell_type": "code",
   "execution_count": null,
   "metadata": {},
   "outputs": [],
   "source": [
    "dataframe_headline = dataframe_filtered[[\"index\", \"headline\"]].copy()"
   ]
  },
  {
   "cell_type": "code",
   "execution_count": null,
   "metadata": {},
   "outputs": [],
   "source": [
    "dataframe_headline.head()"
   ]
  },
  {
   "cell_type": "markdown",
   "metadata": {},
   "source": [
    "For Sentences, we need to first create a dictionary for all the words appear in the model.\n",
    "So the number of words in the dictionary will be the number of neurons in the input layer"
   ]
  },
  {
   "cell_type": "code",
   "execution_count": null,
   "metadata": {},
   "outputs": [],
   "source": [
    "test_str = \"It's, raining.?\"\n",
    "\n",
    "re.sub(\"\\?|\\.|\\,\", \"\", test_str)"
   ]
  },
  {
   "cell_type": "code",
   "execution_count": null,
   "metadata": {},
   "outputs": [],
   "source": [
    "# Let's not worry about punctuation right now\n",
    "# but punctuation can help with formulating grammar\n",
    "dataframe_headline[\"headline\"] = dataframe_headline[\"headline\"].apply(lambda x: re.sub(\"\\'|\\!|\\?|\\.|\\|\\(|\\)|\\,|\\(|\\)\", \"\", x))"
   ]
  },
  {
   "cell_type": "code",
   "execution_count": null,
   "metadata": {},
   "outputs": [],
   "source": [
    "dataframe_headline[\"headline\"].head()"
   ]
  },
  {
   "cell_type": "markdown",
   "metadata": {},
   "source": [
    "### Parsing: dialogs"
   ]
  },
  {
   "cell_type": "code",
   "execution_count": null,
   "metadata": {},
   "outputs": [],
   "source": [
    "PATH = \"../dataset/\"\n",
    "domain = \"chat\"\n",
    "file = \"dialogs.txt\"\n",
    "file_path = os.path.join(PATH,domain,file)\n"
   ]
  },
  {
   "cell_type": "code",
   "execution_count": null,
   "metadata": {},
   "outputs": [],
   "source": [
    "# read text data\n",
    "with open(file_path, mode=\"r\") as file:\n",
    "    rows = file.readlines()\n",
    "    rows = [row.replace(\"\\t\",\" \").replace(\"\\n\", \"\") for row in rows]\n",
    "    sentences = [nltk.sent_tokenize(row)[0] for row in rows]\n",
    "    dataframe = pd.DataFrame(sentences, columns=[\"message\"]).reset_index()"
   ]
  },
  {
   "cell_type": "code",
   "execution_count": null,
   "metadata": {},
   "outputs": [],
   "source": [
    "dataframe.shape"
   ]
  },
  {
   "cell_type": "code",
   "execution_count": null,
   "metadata": {},
   "outputs": [],
   "source": [
    "dataframe[\"message\"] = dataframe[\"message\"].apply(lambda x: re.sub(\"\\'|\\!|\\?|\\.|\\|\\(|\\)|\\,|\\(|\\)\", \"\", x))"
   ]
  },
  {
   "cell_type": "markdown",
   "metadata": {},
   "source": [
    "### Question Answer"
   ]
  },
  {
   "cell_type": "code",
   "execution_count": 2,
   "metadata": {},
   "outputs": [],
   "source": [
    "PATH = \"../dataset/\"\n",
    "domain = \"qa\"\n",
    "file = \"S08_question_answer_pairs.txt\"\n",
    "file_path = os.path.join(PATH,domain,file)"
   ]
  },
  {
   "cell_type": "code",
   "execution_count": 3,
   "metadata": {},
   "outputs": [],
   "source": [
    "with open(file_path, mode=\"r\") as file:\n",
    "    dataframe = pd.read_csv(file, delimiter=\"\\t\").reset_index()"
   ]
  },
  {
   "cell_type": "code",
   "execution_count": 4,
   "metadata": {},
   "outputs": [
    {
     "name": "stdout",
     "output_type": "stream",
     "text": [
      "<class 'pandas.core.frame.DataFrame'>\n",
      "RangeIndex: 1715 entries, 0 to 1714\n",
      "Data columns (total 7 columns):\n",
      " #   Column                    Non-Null Count  Dtype \n",
      "---  ------                    --------------  ----- \n",
      " 0   index                     1715 non-null   int64 \n",
      " 1   ArticleTitle              1715 non-null   object\n",
      " 2   Question                  1696 non-null   object\n",
      " 3   Answer                    1475 non-null   object\n",
      " 4   DifficultyFromQuestioner  1224 non-null   object\n",
      " 5   DifficultyFromAnswerer    1473 non-null   object\n",
      " 6   ArticleFile               1713 non-null   object\n",
      "dtypes: int64(1), object(6)\n",
      "memory usage: 93.9+ KB\n"
     ]
    }
   ],
   "source": [
    "dataframe.info()"
   ]
  },
  {
   "cell_type": "code",
   "execution_count": 5,
   "metadata": {},
   "outputs": [
    {
     "data": {
      "text/html": [
       "<div>\n",
       "<style scoped>\n",
       "    .dataframe tbody tr th:only-of-type {\n",
       "        vertical-align: middle;\n",
       "    }\n",
       "\n",
       "    .dataframe tbody tr th {\n",
       "        vertical-align: top;\n",
       "    }\n",
       "\n",
       "    .dataframe thead th {\n",
       "        text-align: right;\n",
       "    }\n",
       "</style>\n",
       "<table border=\"1\" class=\"dataframe\">\n",
       "  <thead>\n",
       "    <tr style=\"text-align: right;\">\n",
       "      <th></th>\n",
       "      <th>index</th>\n",
       "      <th>ArticleTitle</th>\n",
       "      <th>Question</th>\n",
       "      <th>Answer</th>\n",
       "      <th>DifficultyFromQuestioner</th>\n",
       "      <th>DifficultyFromAnswerer</th>\n",
       "      <th>ArticleFile</th>\n",
       "    </tr>\n",
       "  </thead>\n",
       "  <tbody>\n",
       "    <tr>\n",
       "      <th>0</th>\n",
       "      <td>0</td>\n",
       "      <td>Abraham_Lincoln</td>\n",
       "      <td>Was Abraham Lincoln the sixteenth President of...</td>\n",
       "      <td>yes</td>\n",
       "      <td>easy</td>\n",
       "      <td>easy</td>\n",
       "      <td>S08_set3_a4</td>\n",
       "    </tr>\n",
       "    <tr>\n",
       "      <th>1</th>\n",
       "      <td>1</td>\n",
       "      <td>Abraham_Lincoln</td>\n",
       "      <td>Was Abraham Lincoln the sixteenth President of...</td>\n",
       "      <td>Yes.</td>\n",
       "      <td>easy</td>\n",
       "      <td>easy</td>\n",
       "      <td>S08_set3_a4</td>\n",
       "    </tr>\n",
       "    <tr>\n",
       "      <th>2</th>\n",
       "      <td>2</td>\n",
       "      <td>Abraham_Lincoln</td>\n",
       "      <td>Did Lincoln sign the National Banking Act of 1...</td>\n",
       "      <td>yes</td>\n",
       "      <td>easy</td>\n",
       "      <td>medium</td>\n",
       "      <td>S08_set3_a4</td>\n",
       "    </tr>\n",
       "    <tr>\n",
       "      <th>3</th>\n",
       "      <td>3</td>\n",
       "      <td>Abraham_Lincoln</td>\n",
       "      <td>Did Lincoln sign the National Banking Act of 1...</td>\n",
       "      <td>Yes.</td>\n",
       "      <td>easy</td>\n",
       "      <td>easy</td>\n",
       "      <td>S08_set3_a4</td>\n",
       "    </tr>\n",
       "    <tr>\n",
       "      <th>4</th>\n",
       "      <td>4</td>\n",
       "      <td>Abraham_Lincoln</td>\n",
       "      <td>Did his mother die of pneumonia?</td>\n",
       "      <td>no</td>\n",
       "      <td>easy</td>\n",
       "      <td>medium</td>\n",
       "      <td>S08_set3_a4</td>\n",
       "    </tr>\n",
       "  </tbody>\n",
       "</table>\n",
       "</div>"
      ],
      "text/plain": [
       "   index     ArticleTitle                                           Question  \\\n",
       "0      0  Abraham_Lincoln  Was Abraham Lincoln the sixteenth President of...   \n",
       "1      1  Abraham_Lincoln  Was Abraham Lincoln the sixteenth President of...   \n",
       "2      2  Abraham_Lincoln  Did Lincoln sign the National Banking Act of 1...   \n",
       "3      3  Abraham_Lincoln  Did Lincoln sign the National Banking Act of 1...   \n",
       "4      4  Abraham_Lincoln                   Did his mother die of pneumonia?   \n",
       "\n",
       "  Answer DifficultyFromQuestioner DifficultyFromAnswerer  ArticleFile  \n",
       "0    yes                     easy                   easy  S08_set3_a4  \n",
       "1   Yes.                     easy                   easy  S08_set3_a4  \n",
       "2    yes                     easy                 medium  S08_set3_a4  \n",
       "3   Yes.                     easy                   easy  S08_set3_a4  \n",
       "4     no                     easy                 medium  S08_set3_a4  "
      ]
     },
     "execution_count": 5,
     "metadata": {},
     "output_type": "execute_result"
    }
   ],
   "source": [
    "dataframe.head()"
   ]
  },
  {
   "cell_type": "code",
   "execution_count": 6,
   "metadata": {},
   "outputs": [],
   "source": [
    "# lower case col\n",
    "dataframe.columns = [col.lower() for col in dataframe.columns] "
   ]
  },
  {
   "cell_type": "code",
   "execution_count": 7,
   "metadata": {},
   "outputs": [],
   "source": [
    "# lower case value\n",
    "dataframe.question = dataframe.question.apply(lambda x: str(x).lower())"
   ]
  },
  {
   "cell_type": "code",
   "execution_count": 8,
   "metadata": {},
   "outputs": [],
   "source": [
    "# remove punctuation\n",
    "dataframe[\"question\"] = dataframe[\"question\"].apply(lambda x: re.sub(\"\\!|\\?|\\|\\(|\\)|,|\\(|\\)\", \"\", x))\n",
    "dataframe[\"question\"] = dataframe[\"question\"].apply(lambda x: re.sub(\"-rrb-\", \"\", x))\n",
    "dataframe[\"question\"] = dataframe[\"question\"].apply(lambda x: re.sub(\"-lrb-\", \"\", x))\n",
    "dataframe[\"question\"] = dataframe[\"question\"].apply(lambda x: re.sub(\"[^a-zA-z0-9\\s]\", \"\", x))"
   ]
  },
  {
   "cell_type": "code",
   "execution_count": 9,
   "metadata": {},
   "outputs": [
    {
     "data": {
      "text/html": [
       "<div>\n",
       "<style scoped>\n",
       "    .dataframe tbody tr th:only-of-type {\n",
       "        vertical-align: middle;\n",
       "    }\n",
       "\n",
       "    .dataframe tbody tr th {\n",
       "        vertical-align: top;\n",
       "    }\n",
       "\n",
       "    .dataframe thead th {\n",
       "        text-align: right;\n",
       "    }\n",
       "</style>\n",
       "<table border=\"1\" class=\"dataframe\">\n",
       "  <thead>\n",
       "    <tr style=\"text-align: right;\">\n",
       "      <th></th>\n",
       "      <th>index</th>\n",
       "      <th>articletitle</th>\n",
       "      <th>question</th>\n",
       "      <th>answer</th>\n",
       "      <th>difficultyfromquestioner</th>\n",
       "      <th>difficultyfromanswerer</th>\n",
       "      <th>articlefile</th>\n",
       "    </tr>\n",
       "  </thead>\n",
       "  <tbody>\n",
       "    <tr>\n",
       "      <th>0</th>\n",
       "      <td>0</td>\n",
       "      <td>Abraham_Lincoln</td>\n",
       "      <td>was abraham lincoln the sixteenth president of...</td>\n",
       "      <td>yes</td>\n",
       "      <td>easy</td>\n",
       "      <td>easy</td>\n",
       "      <td>S08_set3_a4</td>\n",
       "    </tr>\n",
       "    <tr>\n",
       "      <th>1</th>\n",
       "      <td>1</td>\n",
       "      <td>Abraham_Lincoln</td>\n",
       "      <td>was abraham lincoln the sixteenth president of...</td>\n",
       "      <td>Yes.</td>\n",
       "      <td>easy</td>\n",
       "      <td>easy</td>\n",
       "      <td>S08_set3_a4</td>\n",
       "    </tr>\n",
       "    <tr>\n",
       "      <th>2</th>\n",
       "      <td>2</td>\n",
       "      <td>Abraham_Lincoln</td>\n",
       "      <td>did lincoln sign the national banking act of 1863</td>\n",
       "      <td>yes</td>\n",
       "      <td>easy</td>\n",
       "      <td>medium</td>\n",
       "      <td>S08_set3_a4</td>\n",
       "    </tr>\n",
       "    <tr>\n",
       "      <th>3</th>\n",
       "      <td>3</td>\n",
       "      <td>Abraham_Lincoln</td>\n",
       "      <td>did lincoln sign the national banking act of 1863</td>\n",
       "      <td>Yes.</td>\n",
       "      <td>easy</td>\n",
       "      <td>easy</td>\n",
       "      <td>S08_set3_a4</td>\n",
       "    </tr>\n",
       "    <tr>\n",
       "      <th>4</th>\n",
       "      <td>4</td>\n",
       "      <td>Abraham_Lincoln</td>\n",
       "      <td>did his mother die of pneumonia</td>\n",
       "      <td>no</td>\n",
       "      <td>easy</td>\n",
       "      <td>medium</td>\n",
       "      <td>S08_set3_a4</td>\n",
       "    </tr>\n",
       "  </tbody>\n",
       "</table>\n",
       "</div>"
      ],
      "text/plain": [
       "   index     articletitle                                           question  \\\n",
       "0      0  Abraham_Lincoln  was abraham lincoln the sixteenth president of...   \n",
       "1      1  Abraham_Lincoln  was abraham lincoln the sixteenth president of...   \n",
       "2      2  Abraham_Lincoln  did lincoln sign the national banking act of 1863   \n",
       "3      3  Abraham_Lincoln  did lincoln sign the national banking act of 1863   \n",
       "4      4  Abraham_Lincoln                    did his mother die of pneumonia   \n",
       "\n",
       "  answer difficultyfromquestioner difficultyfromanswerer  articlefile  \n",
       "0    yes                     easy                   easy  S08_set3_a4  \n",
       "1   Yes.                     easy                   easy  S08_set3_a4  \n",
       "2    yes                     easy                 medium  S08_set3_a4  \n",
       "3   Yes.                     easy                   easy  S08_set3_a4  \n",
       "4     no                     easy                 medium  S08_set3_a4  "
      ]
     },
     "execution_count": 9,
     "metadata": {},
     "output_type": "execute_result"
    }
   ],
   "source": [
    "dataframe.head()"
   ]
  },
  {
   "cell_type": "code",
   "execution_count": 11,
   "metadata": {},
   "outputs": [
    {
     "data": {
      "text/plain": [
       "Index(['Calvin_Coolidge', 'Finland', 'Singapore', 'James_Monroe', 'Uruguay',\n",
       "       'kangaroo', 'turtle', 'otter', 'Amedeo_Avogadro', 'Canada', 'leopard',\n",
       "       'Ghana', 'Millard_Fillmore', 'Abraham_Lincoln', 'elephant', 'duck',\n",
       "       'Liechtenstein', 'penguin'],\n",
       "      dtype='object')"
      ]
     },
     "execution_count": 11,
     "metadata": {},
     "output_type": "execute_result"
    }
   ],
   "source": [
    "dataframe.articletitle.value_counts().index[np.where(dataframe.articletitle.value_counts().values >= 50)]"
   ]
  },
  {
   "cell_type": "code",
   "execution_count": 10,
   "metadata": {},
   "outputs": [
    {
     "name": "stdout",
     "output_type": "stream",
     "text": [
      "['is the most read newspaper in finland taloussanomat'\n",
      " 'is the most read newspaper in finland taloussanomat'\n",
      " 'which russian army general conquered finland in 1809'\n",
      " 'which russian army general conquered finland in 1809'\n",
      " 'what is the life expectancy for men in finland'\n",
      " 'what is the life expectancy for men in finland'\n",
      " 'what body of water lies to the south of finland'\n",
      " 'what body of water lies to the south of finland'\n",
      " 'today are there more cell phone subscriptions than people in finland'\n",
      " 'today are there more cell phone subscriptions than people in finland'\n",
      " 'is matti vanhanen the prime minister of finland'\n",
      " 'is matti vanhanen the prime minister of finland'\n",
      " 'what is the biggest city in finland'\n",
      " 'what is the biggest city in finland'\n",
      " 'who is the most popular rock group in finland'\n",
      " 'who is the most popular rock group in finland'\n",
      " 'what is finlands economy like' 'where is finland located'\n",
      " 'where is finland located'\n",
      " 'are there cathedrals scattered all across finland'\n",
      " 'are there cathedrals scattered all across finland'\n",
      " 'according to readers digest is finland best for living'\n",
      " 'according to readers digest is finland best for living'\n",
      " 'what is a country with which finland is involved in an international conflict'\n",
      " 'what is a country with which finland is involved in an international conflict'\n",
      " 'is it true that he composed finlandia in 1899'\n",
      " 'what did finland join in 1995' 'what arrived in finland'\n",
      " 'what ceded by finland' 'are various sporting events popular in finland '\n",
      " 'are all official holidays in finland established by acts of parliament '\n",
      " 'are the people of finland accustomed to technology and information services '\n",
      " 'is finland  officially the republic of finland `` `` republic of finland    or `` `` suomen tasavalta   in finnish and `` `` republiken finland   in swedish  the long protocol name  which is not defined by the law'\n",
      " 'is finland a democratic  parliamentary republic']\n"
     ]
    }
   ],
   "source": [
    "print(dataframe[dataframe[\"question\"].str.contains(\"finland\")][\"question\"].values)"
   ]
  },
  {
   "cell_type": "markdown",
   "metadata": {},
   "source": [
    "### Proccessing"
   ]
  },
  {
   "cell_type": "code",
   "execution_count": 12,
   "metadata": {},
   "outputs": [],
   "source": [
    "# Generate dictionary of words coming from the source data\n",
    "\n",
    "def create_vocab_mapping(sequences):\n",
    "    \"\"\"\n",
    "    from input sequences of tokens for each string, add to dictionary\n",
    "    \"\"\"\n",
    "    vocabulary_mapping = {}\n",
    "    list_of_vocab = {}\n",
    "    index_cnt = 0\n",
    "\n",
    "    for words in sequences:\n",
    "        for token in words:\n",
    "            try:\n",
    "                list_of_vocab[token] += 1\n",
    "            except Exception as error:\n",
    "                list_of_vocab[token] = 1\n",
    "\n",
    "    # creating vocab\n",
    "    randomized_list_of_vocab = list(list_of_vocab.keys())\n",
    "    random.shuffle(randomized_list_of_vocab)\n",
    "    \n",
    "    for word in randomized_list_of_vocab:\n",
    "        vocabulary_mapping[index_cnt] = word\n",
    "        index_cnt += 1\n",
    "    return vocabulary_mapping, list_of_vocab\n",
    "\n",
    "def create_tokens(dataframe, column) -> List[str]:\n",
    "    \"\"\"\n",
    "    From column in a dataframe, process each input string\n",
    "    and return a list of tokens\n",
    "    \"\"\"\n",
    "    dataframe_processing = dataframe[column]\n",
    "    dataframe_processing = dataframe_processing.drop_duplicates()\n",
    "    sentences = []\n",
    "\n",
    "    for row in dataframe_processing:\n",
    "        words = word_tokenize(row)\n",
    "        words.append(\"</s>\")\n",
    "        sentences.append(words)\n",
    "\n",
    "    # randomize input sentences for training\n",
    "    random.shuffle(sentences)\n",
    "    return sentences\n"
   ]
  },
  {
   "cell_type": "code",
   "execution_count": 13,
   "metadata": {},
   "outputs": [],
   "source": [
    "def count_words():\n",
    "    \"\"\"\n",
    "    Return Frequency of words in a dataset, and number of \n",
    "    sentences containing those words\n",
    "    \"\"\"\n",
    "    pass"
   ]
  },
  {
   "cell_type": "code",
   "execution_count": 15,
   "metadata": {},
   "outputs": [
    {
     "data": {
      "text/plain": [
       "96"
      ]
     },
     "execution_count": 15,
     "metadata": {},
     "output_type": "execute_result"
    }
   ],
   "source": [
    "# narrow dataframe to just Abraham Lincoln\n",
    "dataframe = dataframe[dataframe[\"question\"].str.contains(\"lincoln\")]\n",
    "sentences = create_tokens(dataframe, \"question\")\n",
    "vocabulary_mapping, list_of_vocab = create_vocab_mapping(sentences)\n",
    "input_size = len(vocabulary_mapping)\n",
    "input_size"
   ]
  },
  {
   "cell_type": "code",
   "execution_count": 41,
   "metadata": {},
   "outputs": [
    {
     "data": {
      "text/html": [
       "<div>\n",
       "<style scoped>\n",
       "    .dataframe tbody tr th:only-of-type {\n",
       "        vertical-align: middle;\n",
       "    }\n",
       "\n",
       "    .dataframe tbody tr th {\n",
       "        vertical-align: top;\n",
       "    }\n",
       "\n",
       "    .dataframe thead th {\n",
       "        text-align: right;\n",
       "    }\n",
       "</style>\n",
       "<table border=\"1\" class=\"dataframe\">\n",
       "  <thead>\n",
       "    <tr style=\"text-align: right;\">\n",
       "      <th></th>\n",
       "      <th>index</th>\n",
       "      <th>articletitle</th>\n",
       "      <th>question</th>\n",
       "      <th>answer</th>\n",
       "      <th>difficultyfromquestioner</th>\n",
       "      <th>difficultyfromanswerer</th>\n",
       "      <th>articlefile</th>\n",
       "    </tr>\n",
       "  </thead>\n",
       "  <tbody>\n",
       "    <tr>\n",
       "      <th>0</th>\n",
       "      <td>0</td>\n",
       "      <td>Abraham_Lincoln</td>\n",
       "      <td>was abraham lincoln the sixteenth president of...</td>\n",
       "      <td>yes</td>\n",
       "      <td>easy</td>\n",
       "      <td>easy</td>\n",
       "      <td>S08_set3_a4</td>\n",
       "    </tr>\n",
       "    <tr>\n",
       "      <th>1</th>\n",
       "      <td>1</td>\n",
       "      <td>Abraham_Lincoln</td>\n",
       "      <td>was abraham lincoln the sixteenth president of...</td>\n",
       "      <td>Yes.</td>\n",
       "      <td>easy</td>\n",
       "      <td>easy</td>\n",
       "      <td>S08_set3_a4</td>\n",
       "    </tr>\n",
       "    <tr>\n",
       "      <th>2</th>\n",
       "      <td>2</td>\n",
       "      <td>Abraham_Lincoln</td>\n",
       "      <td>did lincoln sign the national banking act of 1863</td>\n",
       "      <td>yes</td>\n",
       "      <td>easy</td>\n",
       "      <td>medium</td>\n",
       "      <td>S08_set3_a4</td>\n",
       "    </tr>\n",
       "    <tr>\n",
       "      <th>3</th>\n",
       "      <td>3</td>\n",
       "      <td>Abraham_Lincoln</td>\n",
       "      <td>did lincoln sign the national banking act of 1863</td>\n",
       "      <td>Yes.</td>\n",
       "      <td>easy</td>\n",
       "      <td>easy</td>\n",
       "      <td>S08_set3_a4</td>\n",
       "    </tr>\n",
       "    <tr>\n",
       "      <th>6</th>\n",
       "      <td>6</td>\n",
       "      <td>Abraham_Lincoln</td>\n",
       "      <td>how many long was lincolns formal education</td>\n",
       "      <td>18 months</td>\n",
       "      <td>medium</td>\n",
       "      <td>easy</td>\n",
       "      <td>S08_set3_a4</td>\n",
       "    </tr>\n",
       "    <tr>\n",
       "      <th>7</th>\n",
       "      <td>7</td>\n",
       "      <td>Abraham_Lincoln</td>\n",
       "      <td>how many long was lincolns formal education</td>\n",
       "      <td>18 months.</td>\n",
       "      <td>medium</td>\n",
       "      <td>medium</td>\n",
       "      <td>S08_set3_a4</td>\n",
       "    </tr>\n",
       "    <tr>\n",
       "      <th>8</th>\n",
       "      <td>8</td>\n",
       "      <td>Abraham_Lincoln</td>\n",
       "      <td>when did lincoln begin his political career</td>\n",
       "      <td>1832</td>\n",
       "      <td>medium</td>\n",
       "      <td>easy</td>\n",
       "      <td>S08_set3_a4</td>\n",
       "    </tr>\n",
       "    <tr>\n",
       "      <th>9</th>\n",
       "      <td>9</td>\n",
       "      <td>Abraham_Lincoln</td>\n",
       "      <td>when did lincoln begin his political career</td>\n",
       "      <td>1832.</td>\n",
       "      <td>medium</td>\n",
       "      <td>medium</td>\n",
       "      <td>S08_set3_a4</td>\n",
       "    </tr>\n",
       "    <tr>\n",
       "      <th>12</th>\n",
       "      <td>12</td>\n",
       "      <td>Abraham_Lincoln</td>\n",
       "      <td>who suggested lincoln grow a beard</td>\n",
       "      <td>11-year-old Grace Bedell</td>\n",
       "      <td>hard</td>\n",
       "      <td>medium</td>\n",
       "      <td>S08_set3_a4</td>\n",
       "    </tr>\n",
       "    <tr>\n",
       "      <th>13</th>\n",
       "      <td>13</td>\n",
       "      <td>Abraham_Lincoln</td>\n",
       "      <td>who suggested lincoln grow a beard</td>\n",
       "      <td>Grace Bedell.</td>\n",
       "      <td>hard</td>\n",
       "      <td>medium</td>\n",
       "      <td>S08_set3_a4</td>\n",
       "    </tr>\n",
       "    <tr>\n",
       "      <th>16</th>\n",
       "      <td>16</td>\n",
       "      <td>Abraham_Lincoln</td>\n",
       "      <td>did lincoln beat john c breckinridge in the 18...</td>\n",
       "      <td>yes</td>\n",
       "      <td>hard</td>\n",
       "      <td>medium</td>\n",
       "      <td>S08_set3_a4</td>\n",
       "    </tr>\n",
       "    <tr>\n",
       "      <th>17</th>\n",
       "      <td>17</td>\n",
       "      <td>Abraham_Lincoln</td>\n",
       "      <td>did lincoln beat john c breckinridge in the 18...</td>\n",
       "      <td>Yes.</td>\n",
       "      <td>hard</td>\n",
       "      <td>hard</td>\n",
       "      <td>S08_set3_a4</td>\n",
       "    </tr>\n",
       "    <tr>\n",
       "      <th>18</th>\n",
       "      <td>18</td>\n",
       "      <td>Abraham_Lincoln</td>\n",
       "      <td>was abraham lincoln the first president of the...</td>\n",
       "      <td>No</td>\n",
       "      <td>easy</td>\n",
       "      <td>easy</td>\n",
       "      <td>S08_set3_a4</td>\n",
       "    </tr>\n",
       "    <tr>\n",
       "      <th>19</th>\n",
       "      <td>19</td>\n",
       "      <td>Abraham_Lincoln</td>\n",
       "      <td>was abraham lincoln the first president of the...</td>\n",
       "      <td>No</td>\n",
       "      <td>easy</td>\n",
       "      <td>medium</td>\n",
       "      <td>S08_set3_a4</td>\n",
       "    </tr>\n",
       "    <tr>\n",
       "      <th>20</th>\n",
       "      <td>20</td>\n",
       "      <td>Abraham_Lincoln</td>\n",
       "      <td>did lincoln start his political career in 1832</td>\n",
       "      <td>Yes</td>\n",
       "      <td>easy</td>\n",
       "      <td>easy</td>\n",
       "      <td>S08_set3_a4</td>\n",
       "    </tr>\n",
       "    <tr>\n",
       "      <th>21</th>\n",
       "      <td>21</td>\n",
       "      <td>Abraham_Lincoln</td>\n",
       "      <td>did lincoln start his political career in 1832</td>\n",
       "      <td>Yes</td>\n",
       "      <td>easy</td>\n",
       "      <td>easy</td>\n",
       "      <td>S08_set3_a4</td>\n",
       "    </tr>\n",
       "    <tr>\n",
       "      <th>22</th>\n",
       "      <td>22</td>\n",
       "      <td>Abraham_Lincoln</td>\n",
       "      <td>did lincoln ever represent alton  sangamon rai...</td>\n",
       "      <td>Yes</td>\n",
       "      <td>easy</td>\n",
       "      <td>easy</td>\n",
       "      <td>S08_set3_a4</td>\n",
       "    </tr>\n",
       "    <tr>\n",
       "      <th>23</th>\n",
       "      <td>23</td>\n",
       "      <td>Abraham_Lincoln</td>\n",
       "      <td>did lincoln ever represent alton  sangamon rai...</td>\n",
       "      <td>Yes</td>\n",
       "      <td>easy</td>\n",
       "      <td>easy</td>\n",
       "      <td>S08_set3_a4</td>\n",
       "    </tr>\n",
       "    <tr>\n",
       "      <th>24</th>\n",
       "      <td>24</td>\n",
       "      <td>Abraham_Lincoln</td>\n",
       "      <td>which county was lincoln born in</td>\n",
       "      <td>Hardin County</td>\n",
       "      <td>medium</td>\n",
       "      <td>medium</td>\n",
       "      <td>S08_set3_a4</td>\n",
       "    </tr>\n",
       "    <tr>\n",
       "      <th>25</th>\n",
       "      <td>25</td>\n",
       "      <td>Abraham_Lincoln</td>\n",
       "      <td>which county was lincoln born in</td>\n",
       "      <td>Southeast Hardin County, Kentucky</td>\n",
       "      <td>medium</td>\n",
       "      <td>medium</td>\n",
       "      <td>S08_set3_a4</td>\n",
       "    </tr>\n",
       "    <tr>\n",
       "      <th>26</th>\n",
       "      <td>26</td>\n",
       "      <td>Abraham_Lincoln</td>\n",
       "      <td>when did lincoln first serve as president</td>\n",
       "      <td>March 4, 1861</td>\n",
       "      <td>medium</td>\n",
       "      <td>hard</td>\n",
       "      <td>S08_set3_a4</td>\n",
       "    </tr>\n",
       "    <tr>\n",
       "      <th>27</th>\n",
       "      <td>27</td>\n",
       "      <td>Abraham_Lincoln</td>\n",
       "      <td>when did lincoln first serve as president</td>\n",
       "      <td>March 4, 1861</td>\n",
       "      <td>medium</td>\n",
       "      <td>medium</td>\n",
       "      <td>S08_set3_a4</td>\n",
       "    </tr>\n",
       "    <tr>\n",
       "      <th>28</th>\n",
       "      <td>28</td>\n",
       "      <td>Abraham_Lincoln</td>\n",
       "      <td>who assassinated lincoln</td>\n",
       "      <td>John Wilkes Booth</td>\n",
       "      <td>medium</td>\n",
       "      <td>hard</td>\n",
       "      <td>S08_set3_a4</td>\n",
       "    </tr>\n",
       "    <tr>\n",
       "      <th>29</th>\n",
       "      <td>29</td>\n",
       "      <td>Abraham_Lincoln</td>\n",
       "      <td>who assassinated lincoln</td>\n",
       "      <td>John Wilkes Booth</td>\n",
       "      <td>medium</td>\n",
       "      <td>hard</td>\n",
       "      <td>S08_set3_a4</td>\n",
       "    </tr>\n",
       "    <tr>\n",
       "      <th>30</th>\n",
       "      <td>30</td>\n",
       "      <td>Abraham_Lincoln</td>\n",
       "      <td>did lincoln win the election of 1860</td>\n",
       "      <td>Yes</td>\n",
       "      <td>hard</td>\n",
       "      <td>hard</td>\n",
       "      <td>S08_set3_a4</td>\n",
       "    </tr>\n",
       "    <tr>\n",
       "      <th>31</th>\n",
       "      <td>31</td>\n",
       "      <td>Abraham_Lincoln</td>\n",
       "      <td>did lincoln win the election of 1860</td>\n",
       "      <td>Yes</td>\n",
       "      <td>hard</td>\n",
       "      <td>too hard</td>\n",
       "      <td>S08_set3_a4</td>\n",
       "    </tr>\n",
       "    <tr>\n",
       "      <th>34</th>\n",
       "      <td>34</td>\n",
       "      <td>Abraham_Lincoln</td>\n",
       "      <td>why did lincoln issue the emancipation proclam...</td>\n",
       "      <td>To free slaves</td>\n",
       "      <td>hard</td>\n",
       "      <td>hard</td>\n",
       "      <td>S08_set3_a4</td>\n",
       "    </tr>\n",
       "    <tr>\n",
       "      <th>35</th>\n",
       "      <td>35</td>\n",
       "      <td>Abraham_Lincoln</td>\n",
       "      <td>why did lincoln issue the emancipation proclam...</td>\n",
       "      <td>The goal was to weaken the rebellion, which wa...</td>\n",
       "      <td>hard</td>\n",
       "      <td>hard</td>\n",
       "      <td>S08_set3_a4</td>\n",
       "    </tr>\n",
       "    <tr>\n",
       "      <th>36</th>\n",
       "      <td>36</td>\n",
       "      <td>Abraham_Lincoln</td>\n",
       "      <td>do scholars rank lincoln among the top three p...</td>\n",
       "      <td>NaN</td>\n",
       "      <td>easy</td>\n",
       "      <td>NaN</td>\n",
       "      <td>S08_set3_a4</td>\n",
       "    </tr>\n",
       "    <tr>\n",
       "      <th>37</th>\n",
       "      <td>37</td>\n",
       "      <td>Abraham_Lincoln</td>\n",
       "      <td>do scholars rank lincoln among the top three p...</td>\n",
       "      <td>Yes</td>\n",
       "      <td>easy</td>\n",
       "      <td>easy</td>\n",
       "      <td>S08_set3_a4</td>\n",
       "    </tr>\n",
       "    <tr>\n",
       "      <th>38</th>\n",
       "      <td>38</td>\n",
       "      <td>Abraham_Lincoln</td>\n",
       "      <td>did lincoln have 18 months of schooling</td>\n",
       "      <td>NaN</td>\n",
       "      <td>easy</td>\n",
       "      <td>NaN</td>\n",
       "      <td>S08_set3_a4</td>\n",
       "    </tr>\n",
       "    <tr>\n",
       "      <th>39</th>\n",
       "      <td>39</td>\n",
       "      <td>Abraham_Lincoln</td>\n",
       "      <td>did lincoln have 18 months of schooling</td>\n",
       "      <td>Yes</td>\n",
       "      <td>easy</td>\n",
       "      <td>easy</td>\n",
       "      <td>S08_set3_a4</td>\n",
       "    </tr>\n",
       "    <tr>\n",
       "      <th>40</th>\n",
       "      <td>40</td>\n",
       "      <td>Abraham_Lincoln</td>\n",
       "      <td>was lincoln chosen as a presidential candidate...</td>\n",
       "      <td>NaN</td>\n",
       "      <td>easy</td>\n",
       "      <td>NaN</td>\n",
       "      <td>S08_set3_a4</td>\n",
       "    </tr>\n",
       "    <tr>\n",
       "      <th>41</th>\n",
       "      <td>41</td>\n",
       "      <td>Abraham_Lincoln</td>\n",
       "      <td>was lincoln chosen as a presidential candidate...</td>\n",
       "      <td>Yes</td>\n",
       "      <td>easy</td>\n",
       "      <td>easy</td>\n",
       "      <td>S08_set3_a4</td>\n",
       "    </tr>\n",
       "    <tr>\n",
       "      <th>42</th>\n",
       "      <td>42</td>\n",
       "      <td>Abraham_Lincoln</td>\n",
       "      <td>how old was lincoln in 1816</td>\n",
       "      <td>NaN</td>\n",
       "      <td>medium</td>\n",
       "      <td>NaN</td>\n",
       "      <td>S08_set3_a4</td>\n",
       "    </tr>\n",
       "    <tr>\n",
       "      <th>43</th>\n",
       "      <td>43</td>\n",
       "      <td>Abraham_Lincoln</td>\n",
       "      <td>how old was lincoln in 1816</td>\n",
       "      <td>seven</td>\n",
       "      <td>medium</td>\n",
       "      <td>medium</td>\n",
       "      <td>S08_set3_a4</td>\n",
       "    </tr>\n",
       "    <tr>\n",
       "      <th>44</th>\n",
       "      <td>44</td>\n",
       "      <td>Abraham_Lincoln</td>\n",
       "      <td>when was the first photgraph of lincoln taken</td>\n",
       "      <td>NaN</td>\n",
       "      <td>medium</td>\n",
       "      <td>NaN</td>\n",
       "      <td>S08_set3_a4</td>\n",
       "    </tr>\n",
       "    <tr>\n",
       "      <th>45</th>\n",
       "      <td>45</td>\n",
       "      <td>Abraham_Lincoln</td>\n",
       "      <td>when was the first photgraph of lincoln taken</td>\n",
       "      <td>1846</td>\n",
       "      <td>medium</td>\n",
       "      <td>medium</td>\n",
       "      <td>S08_set3_a4</td>\n",
       "    </tr>\n",
       "    <tr>\n",
       "      <th>46</th>\n",
       "      <td>46</td>\n",
       "      <td>Abraham_Lincoln</td>\n",
       "      <td>how long was lincolns legal career</td>\n",
       "      <td>NaN</td>\n",
       "      <td>medium</td>\n",
       "      <td>NaN</td>\n",
       "      <td>S08_set3_a4</td>\n",
       "    </tr>\n",
       "    <tr>\n",
       "      <th>47</th>\n",
       "      <td>47</td>\n",
       "      <td>Abraham_Lincoln</td>\n",
       "      <td>how long was lincolns legal career</td>\n",
       "      <td>23 years</td>\n",
       "      <td>medium</td>\n",
       "      <td>medium</td>\n",
       "      <td>S08_set3_a4</td>\n",
       "    </tr>\n",
       "    <tr>\n",
       "      <th>48</th>\n",
       "      <td>48</td>\n",
       "      <td>Abraham_Lincoln</td>\n",
       "      <td>what trail did lincoln use a farmers almanac in</td>\n",
       "      <td>NaN</td>\n",
       "      <td>hard</td>\n",
       "      <td>NaN</td>\n",
       "      <td>S08_set3_a4</td>\n",
       "    </tr>\n",
       "    <tr>\n",
       "      <th>49</th>\n",
       "      <td>49</td>\n",
       "      <td>Abraham_Lincoln</td>\n",
       "      <td>what trail did lincoln use a farmers almanac in</td>\n",
       "      <td>he defended William \"Duff\" Armstrong</td>\n",
       "      <td>hard</td>\n",
       "      <td>hard</td>\n",
       "      <td>S08_set3_a4</td>\n",
       "    </tr>\n",
       "    <tr>\n",
       "      <th>50</th>\n",
       "      <td>50</td>\n",
       "      <td>Abraham_Lincoln</td>\n",
       "      <td>did abraham lincoln live in the frontier</td>\n",
       "      <td>NaN</td>\n",
       "      <td>hard</td>\n",
       "      <td>NaN</td>\n",
       "      <td>S08_set3_a4</td>\n",
       "    </tr>\n",
       "    <tr>\n",
       "      <th>51</th>\n",
       "      <td>51</td>\n",
       "      <td>Abraham_Lincoln</td>\n",
       "      <td>did abraham lincoln live in the frontier</td>\n",
       "      <td>Yes</td>\n",
       "      <td>hard</td>\n",
       "      <td>medium</td>\n",
       "      <td>S08_set3_a4</td>\n",
       "    </tr>\n",
       "    <tr>\n",
       "      <th>52</th>\n",
       "      <td>52</td>\n",
       "      <td>Abraham_Lincoln</td>\n",
       "      <td>did lincolns wifes family support slavery</td>\n",
       "      <td>NaN</td>\n",
       "      <td>hard</td>\n",
       "      <td>NaN</td>\n",
       "      <td>S08_set3_a4</td>\n",
       "    </tr>\n",
       "    <tr>\n",
       "      <th>53</th>\n",
       "      <td>53</td>\n",
       "      <td>Abraham_Lincoln</td>\n",
       "      <td>did lincolns wifes family support slavery</td>\n",
       "      <td>Yes</td>\n",
       "      <td>hard</td>\n",
       "      <td>medium</td>\n",
       "      <td>S08_set3_a4</td>\n",
       "    </tr>\n",
       "    <tr>\n",
       "      <th>1594</th>\n",
       "      <td>1594</td>\n",
       "      <td>Ulysses_S._Grant</td>\n",
       "      <td>who did president lincoln promote of major gen...</td>\n",
       "      <td>Grant</td>\n",
       "      <td>NaN</td>\n",
       "      <td>too easy</td>\n",
       "      <td>S08_set3_a5</td>\n",
       "    </tr>\n",
       "  </tbody>\n",
       "</table>\n",
       "</div>"
      ],
      "text/plain": [
       "      index      articletitle  \\\n",
       "0         0   Abraham_Lincoln   \n",
       "1         1   Abraham_Lincoln   \n",
       "2         2   Abraham_Lincoln   \n",
       "3         3   Abraham_Lincoln   \n",
       "6         6   Abraham_Lincoln   \n",
       "7         7   Abraham_Lincoln   \n",
       "8         8   Abraham_Lincoln   \n",
       "9         9   Abraham_Lincoln   \n",
       "12       12   Abraham_Lincoln   \n",
       "13       13   Abraham_Lincoln   \n",
       "16       16   Abraham_Lincoln   \n",
       "17       17   Abraham_Lincoln   \n",
       "18       18   Abraham_Lincoln   \n",
       "19       19   Abraham_Lincoln   \n",
       "20       20   Abraham_Lincoln   \n",
       "21       21   Abraham_Lincoln   \n",
       "22       22   Abraham_Lincoln   \n",
       "23       23   Abraham_Lincoln   \n",
       "24       24   Abraham_Lincoln   \n",
       "25       25   Abraham_Lincoln   \n",
       "26       26   Abraham_Lincoln   \n",
       "27       27   Abraham_Lincoln   \n",
       "28       28   Abraham_Lincoln   \n",
       "29       29   Abraham_Lincoln   \n",
       "30       30   Abraham_Lincoln   \n",
       "31       31   Abraham_Lincoln   \n",
       "34       34   Abraham_Lincoln   \n",
       "35       35   Abraham_Lincoln   \n",
       "36       36   Abraham_Lincoln   \n",
       "37       37   Abraham_Lincoln   \n",
       "38       38   Abraham_Lincoln   \n",
       "39       39   Abraham_Lincoln   \n",
       "40       40   Abraham_Lincoln   \n",
       "41       41   Abraham_Lincoln   \n",
       "42       42   Abraham_Lincoln   \n",
       "43       43   Abraham_Lincoln   \n",
       "44       44   Abraham_Lincoln   \n",
       "45       45   Abraham_Lincoln   \n",
       "46       46   Abraham_Lincoln   \n",
       "47       47   Abraham_Lincoln   \n",
       "48       48   Abraham_Lincoln   \n",
       "49       49   Abraham_Lincoln   \n",
       "50       50   Abraham_Lincoln   \n",
       "51       51   Abraham_Lincoln   \n",
       "52       52   Abraham_Lincoln   \n",
       "53       53   Abraham_Lincoln   \n",
       "1594   1594  Ulysses_S._Grant   \n",
       "\n",
       "                                               question  \\\n",
       "0     was abraham lincoln the sixteenth president of...   \n",
       "1     was abraham lincoln the sixteenth president of...   \n",
       "2     did lincoln sign the national banking act of 1863   \n",
       "3     did lincoln sign the national banking act of 1863   \n",
       "6           how many long was lincolns formal education   \n",
       "7           how many long was lincolns formal education   \n",
       "8           when did lincoln begin his political career   \n",
       "9           when did lincoln begin his political career   \n",
       "12                   who suggested lincoln grow a beard   \n",
       "13                   who suggested lincoln grow a beard   \n",
       "16    did lincoln beat john c breckinridge in the 18...   \n",
       "17    did lincoln beat john c breckinridge in the 18...   \n",
       "18    was abraham lincoln the first president of the...   \n",
       "19    was abraham lincoln the first president of the...   \n",
       "20       did lincoln start his political career in 1832   \n",
       "21       did lincoln start his political career in 1832   \n",
       "22    did lincoln ever represent alton  sangamon rai...   \n",
       "23    did lincoln ever represent alton  sangamon rai...   \n",
       "24                     which county was lincoln born in   \n",
       "25                     which county was lincoln born in   \n",
       "26            when did lincoln first serve as president   \n",
       "27            when did lincoln first serve as president   \n",
       "28                             who assassinated lincoln   \n",
       "29                             who assassinated lincoln   \n",
       "30                 did lincoln win the election of 1860   \n",
       "31                 did lincoln win the election of 1860   \n",
       "34    why did lincoln issue the emancipation proclam...   \n",
       "35    why did lincoln issue the emancipation proclam...   \n",
       "36    do scholars rank lincoln among the top three p...   \n",
       "37    do scholars rank lincoln among the top three p...   \n",
       "38              did lincoln have 18 months of schooling   \n",
       "39              did lincoln have 18 months of schooling   \n",
       "40    was lincoln chosen as a presidential candidate...   \n",
       "41    was lincoln chosen as a presidential candidate...   \n",
       "42                          how old was lincoln in 1816   \n",
       "43                          how old was lincoln in 1816   \n",
       "44        when was the first photgraph of lincoln taken   \n",
       "45        when was the first photgraph of lincoln taken   \n",
       "46                   how long was lincolns legal career   \n",
       "47                   how long was lincolns legal career   \n",
       "48     what trail did lincoln use a farmers almanac in    \n",
       "49     what trail did lincoln use a farmers almanac in    \n",
       "50             did abraham lincoln live in the frontier   \n",
       "51             did abraham lincoln live in the frontier   \n",
       "52            did lincolns wifes family support slavery   \n",
       "53            did lincolns wifes family support slavery   \n",
       "1594  who did president lincoln promote of major gen...   \n",
       "\n",
       "                                                 answer  \\\n",
       "0                                                   yes   \n",
       "1                                                  Yes.   \n",
       "2                                                   yes   \n",
       "3                                                  Yes.   \n",
       "6                                             18 months   \n",
       "7                                            18 months.   \n",
       "8                                                  1832   \n",
       "9                                                 1832.   \n",
       "12                             11-year-old Grace Bedell   \n",
       "13                                        Grace Bedell.   \n",
       "16                                                  yes   \n",
       "17                                                 Yes.   \n",
       "18                                                   No   \n",
       "19                                                   No   \n",
       "20                                                  Yes   \n",
       "21                                                  Yes   \n",
       "22                                                  Yes   \n",
       "23                                                  Yes   \n",
       "24                                        Hardin County   \n",
       "25                    Southeast Hardin County, Kentucky   \n",
       "26                                        March 4, 1861   \n",
       "27                                        March 4, 1861   \n",
       "28                                    John Wilkes Booth   \n",
       "29                                    John Wilkes Booth   \n",
       "30                                                  Yes   \n",
       "31                                                  Yes   \n",
       "34                                      To free slaves    \n",
       "35    The goal was to weaken the rebellion, which wa...   \n",
       "36                                                  NaN   \n",
       "37                                                  Yes   \n",
       "38                                                  NaN   \n",
       "39                                                  Yes   \n",
       "40                                                  NaN   \n",
       "41                                                  Yes   \n",
       "42                                                  NaN   \n",
       "43                                                seven   \n",
       "44                                                  NaN   \n",
       "45                                                 1846   \n",
       "46                                                  NaN   \n",
       "47                                             23 years   \n",
       "48                                                  NaN   \n",
       "49                 he defended William \"Duff\" Armstrong   \n",
       "50                                                  NaN   \n",
       "51                                                  Yes   \n",
       "52                                                  NaN   \n",
       "53                                                  Yes   \n",
       "1594                                              Grant   \n",
       "\n",
       "     difficultyfromquestioner difficultyfromanswerer  articlefile  \n",
       "0                        easy                   easy  S08_set3_a4  \n",
       "1                        easy                   easy  S08_set3_a4  \n",
       "2                        easy                 medium  S08_set3_a4  \n",
       "3                        easy                   easy  S08_set3_a4  \n",
       "6                      medium                   easy  S08_set3_a4  \n",
       "7                      medium                 medium  S08_set3_a4  \n",
       "8                      medium                   easy  S08_set3_a4  \n",
       "9                      medium                 medium  S08_set3_a4  \n",
       "12                       hard                 medium  S08_set3_a4  \n",
       "13                       hard                 medium  S08_set3_a4  \n",
       "16                       hard                 medium  S08_set3_a4  \n",
       "17                       hard                   hard  S08_set3_a4  \n",
       "18                       easy                   easy  S08_set3_a4  \n",
       "19                       easy                 medium  S08_set3_a4  \n",
       "20                       easy                   easy  S08_set3_a4  \n",
       "21                       easy                   easy  S08_set3_a4  \n",
       "22                       easy                   easy  S08_set3_a4  \n",
       "23                       easy                   easy  S08_set3_a4  \n",
       "24                     medium                 medium  S08_set3_a4  \n",
       "25                     medium                 medium  S08_set3_a4  \n",
       "26                     medium                   hard  S08_set3_a4  \n",
       "27                     medium                 medium  S08_set3_a4  \n",
       "28                     medium                   hard  S08_set3_a4  \n",
       "29                     medium                   hard  S08_set3_a4  \n",
       "30                       hard                   hard  S08_set3_a4  \n",
       "31                       hard               too hard  S08_set3_a4  \n",
       "34                       hard                   hard  S08_set3_a4  \n",
       "35                       hard                   hard  S08_set3_a4  \n",
       "36                       easy                    NaN  S08_set3_a4  \n",
       "37                       easy                   easy  S08_set3_a4  \n",
       "38                       easy                    NaN  S08_set3_a4  \n",
       "39                       easy                   easy  S08_set3_a4  \n",
       "40                       easy                    NaN  S08_set3_a4  \n",
       "41                       easy                   easy  S08_set3_a4  \n",
       "42                     medium                    NaN  S08_set3_a4  \n",
       "43                     medium                 medium  S08_set3_a4  \n",
       "44                     medium                    NaN  S08_set3_a4  \n",
       "45                     medium                 medium  S08_set3_a4  \n",
       "46                     medium                    NaN  S08_set3_a4  \n",
       "47                     medium                 medium  S08_set3_a4  \n",
       "48                       hard                    NaN  S08_set3_a4  \n",
       "49                       hard                   hard  S08_set3_a4  \n",
       "50                       hard                    NaN  S08_set3_a4  \n",
       "51                       hard                 medium  S08_set3_a4  \n",
       "52                       hard                    NaN  S08_set3_a4  \n",
       "53                       hard                 medium  S08_set3_a4  \n",
       "1594                      NaN               too easy  S08_set3_a5  "
      ]
     },
     "execution_count": 41,
     "metadata": {},
     "output_type": "execute_result"
    }
   ],
   "source": [
    "dataframe"
   ]
  },
  {
   "cell_type": "code",
   "execution_count": 17,
   "metadata": {},
   "outputs": [
    {
     "data": {
      "text/plain": [
       "24"
      ]
     },
     "execution_count": 17,
     "metadata": {},
     "output_type": "execute_result"
    }
   ],
   "source": [
    "# dict(sorted(list_of_vocab.items(), key=lambda item: item[0]))\n",
    "len(sentences)"
   ]
  },
  {
   "cell_type": "code",
   "execution_count": 16,
   "metadata": {},
   "outputs": [
    {
     "data": {
      "text/plain": [
       "{0: 'use',\n",
       " 1: '1863',\n",
       " 2: 'born',\n",
       " 3: 'john',\n",
       " 4: 'top',\n",
       " 5: 'education',\n",
       " 6: 'breckinridge',\n",
       " 7: 'almanac',\n",
       " 8: 'sangamon',\n",
       " 9: 'slavery',\n",
       " 10: 'begin',\n",
       " 11: 'suggested',\n",
       " 12: 'of',\n",
       " 13: 'when',\n",
       " 14: 'effective',\n",
       " 15: 'ever',\n",
       " 16: 'the',\n",
       " 17: 'election',\n",
       " 18: '1860',\n",
       " 19: 'why',\n",
       " 20: 'lincoln',\n",
       " 21: 'alton',\n",
       " 22: 'political',\n",
       " 23: 'frontier',\n",
       " 24: 'many',\n",
       " 25: 'presidents',\n",
       " 26: '4',\n",
       " 27: 'abraham',\n",
       " 28: 'presidential',\n",
       " 29: 'candidate',\n",
       " 30: 'in',\n",
       " 31: 'as',\n",
       " 32: 'among',\n",
       " 33: 'states',\n",
       " 34: 'did',\n",
       " 35: 'how',\n",
       " 36: 'photgraph',\n",
       " 37: 'live',\n",
       " 38: 'was',\n",
       " 39: 'grow',\n",
       " 40: 'railroad',\n",
       " 41: 'c',\n",
       " 42: 'old',\n",
       " 43: '1832',\n",
       " 44: 'who',\n",
       " 45: 'taken',\n",
       " 46: 'issue',\n",
       " 47: 'months',\n",
       " 48: 'support',\n",
       " 49: 'united',\n",
       " 50: 'start',\n",
       " 51: 'president',\n",
       " 52: 'sixteenth',\n",
       " 53: '18',\n",
       " 54: 'county',\n",
       " 55: 'legal',\n",
       " 56: 'act',\n",
       " 57: 'career',\n",
       " 58: 'chosen',\n",
       " 59: 'beard',\n",
       " 60: 'banking',\n",
       " 61: 'july',\n",
       " 62: 'promote',\n",
       " 63: 'national',\n",
       " 64: 'rank',\n",
       " 65: 'assassinated',\n",
       " 66: 'scholars',\n",
       " 67: 'schooling',\n",
       " 68: 'regular',\n",
       " 69: '</s>',\n",
       " 70: 'which',\n",
       " 71: 'three',\n",
       " 72: 'what',\n",
       " 73: 'have',\n",
       " 74: 'formal',\n",
       " 75: 'first',\n",
       " 76: 'lincolns',\n",
       " 77: 'long',\n",
       " 78: 'a',\n",
       " 79: 'beat',\n",
       " 80: 'army',\n",
       " 81: '1816',\n",
       " 82: 'win',\n",
       " 83: 'general',\n",
       " 84: 'sign',\n",
       " 85: 'represent',\n",
       " 86: 'wifes',\n",
       " 87: 'family',\n",
       " 88: 'emancipation',\n",
       " 89: 'proclamation',\n",
       " 90: 'his',\n",
       " 91: 'trail',\n",
       " 92: 'serve',\n",
       " 93: 'major',\n",
       " 94: 'do',\n",
       " 95: 'farmers'}"
      ]
     },
     "execution_count": 16,
     "metadata": {},
     "output_type": "execute_result"
    }
   ],
   "source": [
    "vocabulary_mapping"
   ]
  },
  {
   "cell_type": "markdown",
   "metadata": {},
   "source": [
    "### Encoding"
   ]
  },
  {
   "cell_type": "code",
   "execution_count": 18,
   "metadata": {},
   "outputs": [
    {
     "name": "stderr",
     "output_type": "stream",
     "text": [
      "/Users/mynguyen/Repos/language-helper/.venv/lib/python3.10/site-packages/tqdm/auto.py:22: TqdmWarning: IProgress not found. Please update jupyter and ipywidgets. See https://ipywidgets.readthedocs.io/en/stable/user_install.html\n",
      "  from .autonotebook import tqdm as notebook_tqdm\n"
     ]
    }
   ],
   "source": [
    "import torch"
   ]
  },
  {
   "cell_type": "code",
   "execution_count": 19,
   "metadata": {},
   "outputs": [],
   "source": [
    "def find_word_index(word):\n",
    "    \"\"\"\n",
    "    Look up word index in vocabulary dictionary\n",
    "    \"\"\"\n",
    "    value = [index for index in vocabulary_mapping.keys() if vocabulary_mapping[index] == word]\n",
    "    return value[0]\n",
    "\n",
    "\n",
    "def sentence_to_tensor(sentences):\n",
    "    tensor = torch.zeros(len(sentences), 1, len(vocabulary_mapping))\n",
    "    for sentence, word in enumerate(sentences):\n",
    "        index = find_word_index(word)\n",
    "        tensor[sentence][0][index] = 1\n",
    "    return tensor\n",
    "\n",
    "\n",
    "def formulate_target(sentences: List[str]):\n",
    "    \"\"\"\n",
    "    For example:\n",
    "    string: This is a test\n",
    "\n",
    "    embedded tensor:\n",
    "    This = [[[]]]\n",
    "\n",
    "    target: is\n",
    "    \"\"\"\n",
    "    orig_size = len(sentences)\n",
    "    x_sentence = sentences[:-1]\n",
    "    y_sentence = sentences[1:]\n",
    "    x_tensor = sentence_to_tensor(sentences=x_sentence)\n",
    "    y_tensor = sentence_to_tensor(sentences=y_sentence)\n",
    "    return x_tensor, y_tensor\n",
    "\n"
   ]
  },
  {
   "cell_type": "code",
   "execution_count": 20,
   "metadata": {},
   "outputs": [
    {
     "data": {
      "text/plain": [
       "51"
      ]
     },
     "execution_count": 20,
     "metadata": {},
     "output_type": "execute_result"
    }
   ],
   "source": [
    "# 996: 'Biking'\n",
    "find_word_index(\"president\")"
   ]
  },
  {
   "cell_type": "code",
   "execution_count": 21,
   "metadata": {},
   "outputs": [
    {
     "name": "stdout",
     "output_type": "stream",
     "text": [
      "Input: ['did', 'abraham', 'lincoln', 'live', 'in', 'the', 'frontier', '</s>']\n"
     ]
    }
   ],
   "source": [
    "print(f\"Input: {sentences[0]}\")\n",
    "tensor = sentence_to_tensor(sentences[0])"
   ]
  },
  {
   "cell_type": "code",
   "execution_count": 22,
   "metadata": {},
   "outputs": [
    {
     "name": "stdout",
     "output_type": "stream",
     "text": [
      "torch.Size([8, 1, 96])\n"
     ]
    }
   ],
   "source": [
    "print(tensor.shape)"
   ]
  },
  {
   "cell_type": "code",
   "execution_count": 23,
   "metadata": {},
   "outputs": [],
   "source": [
    "x_tensor, y_tensor = formulate_target(sentences=sentences[0])"
   ]
  },
  {
   "cell_type": "code",
   "execution_count": 24,
   "metadata": {},
   "outputs": [
    {
     "data": {
      "text/plain": [
       "torch.Size([7, 1, 96])"
      ]
     },
     "execution_count": 24,
     "metadata": {},
     "output_type": "execute_result"
    }
   ],
   "source": [
    "x_tensor.shape"
   ]
  },
  {
   "cell_type": "code",
   "execution_count": 25,
   "metadata": {},
   "outputs": [
    {
     "data": {
      "text/plain": [
       "torch.Size([7, 1, 96])"
      ]
     },
     "execution_count": 25,
     "metadata": {},
     "output_type": "execute_result"
    }
   ],
   "source": [
    "y_tensor.shape"
   ]
  },
  {
   "cell_type": "code",
   "execution_count": 26,
   "metadata": {},
   "outputs": [
    {
     "name": "stdout",
     "output_type": "stream",
     "text": [
      "tensor(False)\n",
      "tensor(False)\n"
     ]
    }
   ],
   "source": [
    "# checking if x tensor and y tensor are different (they should be)\n",
    "for i in x_tensor[0][0] == y_tensor[0][0]:\n",
    "    if not i: \n",
    "        print(i)"
   ]
  },
  {
   "cell_type": "markdown",
   "metadata": {},
   "source": [
    "### Building Models"
   ]
  },
  {
   "cell_type": "markdown",
   "metadata": {},
   "source": []
  },
  {
   "cell_type": "code",
   "execution_count": 27,
   "metadata": {},
   "outputs": [],
   "source": [
    "import torch.nn as nn\n",
    "from torch.autograd import Variable\n",
    "from torch.optim import Adam\n",
    "from torch import FloatTensor, randn, zeros"
   ]
  },
  {
   "cell_type": "code",
   "execution_count": 28,
   "metadata": {},
   "outputs": [],
   "source": [
    "INPUT_SIZE = len(vocabulary_mapping)\n",
    "HIDDEN_SIZE = 256\n",
    "OUPUT_SIZE = len(vocabulary_mapping)\n",
    "LEARNING_RATE = 0.001"
   ]
  },
  {
   "cell_type": "code",
   "execution_count": 29,
   "metadata": {},
   "outputs": [],
   "source": [
    "class RNN(nn.Module):\n",
    "    \"\"\"\n",
    "    simple RNN network with 1 layer\n",
    "    \"\"\"\n",
    "    def __init__(self, input_size, hidden_size, output_size):\n",
    "        super(RNN, self).__init__()\n",
    "\n",
    "        self.hidden_size = hidden_size\n",
    "\n",
    "        self.i2h = nn.Linear(input_size + hidden_size, hidden_size)\n",
    "        self.i2o = nn.Linear(input_size + hidden_size, output_size)\n",
    "        self.dropout = nn.Dropout(0.1)\n",
    "        self.fc = nn.Linear(output_size, output_size)\n",
    "        # self.softmax = nn.LogSoftmax()\n",
    "\n",
    "    def forward(self, input, hidden):\n",
    "        combined = torch.cat((input, hidden), 1)\n",
    "        hidden_t = self.i2h(combined)\n",
    "        output = self.i2o(combined)\n",
    "        drop_output = self.dropout(output)\n",
    "        logits = self.fc(drop_output)\n",
    "        # do not need softmax if using CrossEntropyLoss\n",
    "        # https://stackoverflow.com/questions/55675345/should-i-use-softmax-as-output-when-using-cross-entropy-loss-in-pytorch\n",
    "        return logits, hidden_t\n",
    "        \n",
    "    \n",
    "    def init_hidden(self):\n",
    "        return Variable(torch.zeros(1, self.hidden_size))"
   ]
  },
  {
   "cell_type": "code",
   "execution_count": 30,
   "metadata": {},
   "outputs": [],
   "source": [
    "class LSTM(nn.Module):\n",
    "    def __init__(self):\n",
    "        super(LSTM, self).__init__()"
   ]
  },
  {
   "cell_type": "markdown",
   "metadata": {},
   "source": [
    "### Training Model"
   ]
  },
  {
   "cell_type": "code",
   "execution_count": 31,
   "metadata": {},
   "outputs": [],
   "source": [
    "# Demonstrating how model interact\n",
    "def predict(input_sentence, rnn, output_length=None):\n",
    "    predicted_str = []\n",
    "    rnn.eval()\n",
    "    hidden = rnn.init_hidden()\n",
    "    for i in range(output_length+1):     \n",
    "        hidden = rnn.init_hidden()   \n",
    "        x_input = sentence_to_tensor(input_sentence)\n",
    "        x_input = Variable(x_input)\n",
    "        \n",
    "        hidden = Variable(torch.zeros(1, HIDDEN_SIZE))\n",
    "        output, next_hidden = rnn(x_input[0], hidden)\n",
    "\n",
    "        # get the token probabilities\n",
    "        p = torch.nn.functional.softmax(output, dim=1).data\n",
    "\n",
    "        # use top 1 word as next input\n",
    "        input_sentence = [vocabulary_mapping[int(output.data.topk(1).indices[0][0])]]\n",
    "        print(f\"next input {input_sentence}\")\n",
    "        predicted_str.append((input_sentence, p[0]))\n",
    "    return predicted_str"
   ]
  },
  {
   "cell_type": "markdown",
   "metadata": {},
   "source": [
    "#### What is Backpropagation in LSTM's language model\n",
    "\n",
    "\n",
    "#### What is Issue of Vanishing Gradient\n",
    "\n",
    "\n",
    "#### What is CrossEntropyLoss for LSTM's language model\n",
    "\n",
    "\n",
    "#### What is the Optimizer we can use in LSTM\n",
    "\n",
    "\n",
    "#### What is checkpoint\n"
   ]
  },
  {
   "cell_type": "code",
   "execution_count": 32,
   "metadata": {},
   "outputs": [
    {
     "data": {
      "text/plain": [
       "24"
      ]
     },
     "execution_count": 32,
     "metadata": {},
     "output_type": "execute_result"
    }
   ],
   "source": [
    "len(sentences)"
   ]
  },
  {
   "cell_type": "code",
   "execution_count": 36,
   "metadata": {},
   "outputs": [
    {
     "name": "stdout",
     "output_type": "stream",
     "text": [
      "Iter 1\n",
      "Loss 4.5921276092529295\n",
      "Iter 2\n",
      "Loss 4.586153030395508\n",
      "Iter 3\n",
      "Loss 4.583510671343122\n",
      "Iter 4\n",
      "Loss 4.598835786183675\n",
      "Iter 5\n",
      "Loss 4.588763100760324\n",
      "Iter 6\n",
      "Loss 4.56066550148858\n",
      "Iter 7\n",
      "Loss 4.554253986903599\n",
      "Iter 8\n",
      "Loss 4.560214948654175\n",
      "Iter 9\n",
      "Loss 4.5956259568532305\n",
      "Iter 10\n",
      "Loss 4.56657567024231\n",
      "Iter 11\n",
      "Loss 4.599438599177769\n",
      "Iter 12\n",
      "Loss 4.589988708496094\n",
      "Iter 13\n",
      "Loss 4.609184900919597\n",
      "Iter 14\n",
      "Loss 4.59403642018636\n",
      "Iter 15\n",
      "Loss 4.570677399635315\n"
     ]
    }
   ],
   "source": [
    "# training\n",
    "# torch.autograd.set_detect_anomaly(True)\n",
    "#  initialize rnn instance\n",
    "rnn = RNN(INPUT_SIZE, HIDDEN_SIZE, OUPUT_SIZE)\n",
    "n_iterations = 15\n",
    "hidden = rnn.init_hidden()\n",
    "# rnn.zero_grad()\n",
    "\n",
    "total_loss = 0\n",
    "training_result = []\n",
    "\n",
    "# measuring differences between predicted probability distribution \n",
    "# versus the actual\n",
    "criterion = nn.CrossEntropyLoss()\n",
    "\n",
    "\n",
    "# define an optimizer\n",
    "# rnn.train()\n",
    "\n",
    "optimizer = Adam(rnn.parameters(), lr=LEARNING_RATE)\n",
    "\n",
    "# define epoch for training\n",
    "# for each iteration, pick a sentence for training\n",
    "for iter in range(1, n_iterations+1):\n",
    "    rnn.zero_grad()\n",
    "\n",
    "    # select an input for training\n",
    "    \n",
    "    total_loss = 0\n",
    "    # sentence = np.random.choice(sentences)\n",
    "    sentence = sentences[iter]\n",
    "    \n",
    "    # wrap tensor in Variable\n",
    "    x_tensor, y_tensor = formulate_target(sentence)\n",
    "    x_tensor_wrap = Variable(x_tensor)\n",
    "    y_tensor_wrap = Variable(y_tensor)\n",
    "\n",
    "    for index in range(x_tensor_wrap.size()[0]):\n",
    "        # zero gradient\n",
    "        rnn.zero_grad()\n",
    "        # optimizer.zero_grad()\n",
    "\n",
    "        output, hidden = rnn(x_tensor_wrap[index], hidden)\n",
    "\n",
    "        # to evaluate output, we need to compare generated output\n",
    "        # against the actual next word\n",
    "       \n",
    "        # after training each word in input sequence, calculate loss\n",
    "        loss = criterion(output, y_tensor_wrap[index])\n",
    "        hidden.detach()\n",
    "        total_loss += loss.item()\n",
    "        \n",
    "        # https://discuss.pytorch.org/t/runtimeerror-trying-to-backward-through-the-graph-a-second-time-but-the-buffers-have-already-been-freed-specify-retain-graph-true-when-calling-backward-the-first-time/6795/2\n",
    "        # To reduce memory usage, during the .backward() call, all the intermediary results\n",
    "        # are deleted when they are not needed anymore. Hence if you try to call .backward() again,\n",
    "        # the intermediary results don’t exist and the backward pass cannot be performed (and you get the error you see).\n",
    "        # You can call .backward(retain_graph=True) to make a backward pass that will not delete intermediary results\n",
    "    \n",
    "        loss.backward(retain_graph=True)\n",
    "        \n",
    "        nn.utils.clip_grad_norm_(rnn.parameters(), 1)\n",
    "        # optimizer.step()\n",
    "\n",
    "    # average the training loss for the sentence (due to sentence might have more token)\n",
    "    avg_loss = total_loss/x_tensor.size()[0]\n",
    "        \n",
    "\n",
    "    # update weights\n",
    "    for p in rnn.parameters():\n",
    "        try:\n",
    "            p.data.sub_(-LEARNING_RATE, p.grad.data)\n",
    "        except Exception as e:\n",
    "            print(\"Skipping\")\n",
    "            \n",
    "    # early stopping if loss stop decreasing\n",
    "    # https://github.com/Bjarten/early-stopping-pytorch\n",
    "    \n",
    "    print(f\"Iter {iter}\")\n",
    "    print(f\"Loss {avg_loss}\")\n",
    "\n",
    "    # only adding total loss training for each sentence to training result\n",
    "    training_result.append(float(avg_loss))\n",
    "    "
   ]
  },
  {
   "cell_type": "code",
   "execution_count": 40,
   "metadata": {},
   "outputs": [
    {
     "data": {
      "text/plain": [
       "[7.879787649427142,\n",
       " 7.896685695648193,\n",
       " 7.864547284444173,\n",
       " 7.872136506167325,\n",
       " 7.888607025146484,\n",
       " 7.86925208568573,\n",
       " 7.881708701451619,\n",
       " 7.879568576812744,\n",
       " 7.874557290758405,\n",
       " 7.875260233879089]"
      ]
     },
     "execution_count": 40,
     "metadata": {},
     "output_type": "execute_result"
    }
   ],
   "source": [
    "training_result[-10:]"
   ]
  },
  {
   "cell_type": "code",
   "execution_count": 37,
   "metadata": {},
   "outputs": [
    {
     "data": {
      "image/png": "[encoded data removed]",
      "text/plain": [
       "<Figure size 640x480 with 1 Axes>"
      ]
     },
     "metadata": {},
     "output_type": "display_data"
    }
   ],
   "source": [
    "from matplotlib import pyplot as plt\n",
    "\n",
    "plt.plot(training_result)\n",
    "plt.show()"
   ]
  },
  {
   "cell_type": "code",
   "execution_count": 39,
   "metadata": {},
   "outputs": [
    {
     "data": {
      "text/plain": [
       "tensor([[0., 0., 0., 0., 0., 0., 0., 0., 0., 0., 0., 0., 0., 0., 0., 0., 0., 0.,\n",
       "         0., 0., 0., 0., 0., 0., 0., 0., 0., 0., 0., 0., 0., 0., 0., 0., 0., 0.,\n",
       "         0., 0., 1., 0., 0., 0., 0., 0., 0., 0., 0., 0., 0., 0., 0., 0., 0., 0.,\n",
       "         0., 0., 0., 0., 0., 0., 0., 0., 0., 0., 0., 0., 0., 0., 0., 0., 0., 0.,\n",
       "         0., 0., 0., 0., 0., 0., 0., 0., 0., 0., 0., 0., 0., 0., 0., 0., 0., 0.,\n",
       "         0., 0., 0., 0., 0., 0.]])"
      ]
     },
     "execution_count": 39,
     "metadata": {},
     "output_type": "execute_result"
    }
   ],
   "source": [
    "x_input = sentence_to_tensor([\"was\"])\n",
    "x_input = Variable(x_input)\n",
    "x_input[0]"
   ]
  },
  {
   "cell_type": "code",
   "execution_count": 45,
   "metadata": {},
   "outputs": [
    {
     "ename": "IndexError",
     "evalue": "list index out of range",
     "output_type": "error",
     "traceback": [
      "\u001b[0;31m---------------------------------------------------------------------------\u001b[0m",
      "\u001b[0;31mIndexError\u001b[0m                                Traceback (most recent call last)",
      "Cell \u001b[0;32mIn [45], line 3\u001b[0m\n\u001b[1;32m      1\u001b[0m \u001b[39m# predict\u001b[39;00m\n\u001b[1;32m      2\u001b[0m result \u001b[39m=\u001b[39m {}\n\u001b[0;32m----> 3\u001b[0m output \u001b[39m=\u001b[39m predict([\u001b[39m\"\u001b[39;49m\u001b[39mis\u001b[39;49m\u001b[39m\"\u001b[39;49m], rnn, \u001b[39m4\u001b[39;49m)\n\u001b[1;32m      5\u001b[0m \u001b[39m# print results\u001b[39;00m\n\u001b[1;32m      6\u001b[0m \u001b[39mprint\u001b[39m(output)\n",
      "Cell \u001b[0;32mIn [31], line 8\u001b[0m, in \u001b[0;36mpredict\u001b[0;34m(input_sentence, rnn, output_length)\u001b[0m\n\u001b[1;32m      6\u001b[0m \u001b[39mfor\u001b[39;00m i \u001b[39min\u001b[39;00m \u001b[39mrange\u001b[39m(output_length\u001b[39m+\u001b[39m\u001b[39m1\u001b[39m):     \n\u001b[1;32m      7\u001b[0m     hidden \u001b[39m=\u001b[39m rnn\u001b[39m.\u001b[39minit_hidden()   \n\u001b[0;32m----> 8\u001b[0m     x_input \u001b[39m=\u001b[39m sentence_to_tensor(input_sentence)\n\u001b[1;32m      9\u001b[0m     x_input \u001b[39m=\u001b[39m Variable(x_input)\n\u001b[1;32m     11\u001b[0m     hidden \u001b[39m=\u001b[39m Variable(torch\u001b[39m.\u001b[39mzeros(\u001b[39m1\u001b[39m, HIDDEN_SIZE))\n",
      "Cell \u001b[0;32mIn [19], line 12\u001b[0m, in \u001b[0;36msentence_to_tensor\u001b[0;34m(sentences)\u001b[0m\n\u001b[1;32m     10\u001b[0m tensor \u001b[39m=\u001b[39m torch\u001b[39m.\u001b[39mzeros(\u001b[39mlen\u001b[39m(sentences), \u001b[39m1\u001b[39m, \u001b[39mlen\u001b[39m(vocabulary_mapping))\n\u001b[1;32m     11\u001b[0m \u001b[39mfor\u001b[39;00m sentence, word \u001b[39min\u001b[39;00m \u001b[39menumerate\u001b[39m(sentences):\n\u001b[0;32m---> 12\u001b[0m     index \u001b[39m=\u001b[39m find_word_index(word)\n\u001b[1;32m     13\u001b[0m     tensor[sentence][\u001b[39m0\u001b[39m][index] \u001b[39m=\u001b[39m \u001b[39m1\u001b[39m\n\u001b[1;32m     14\u001b[0m \u001b[39mreturn\u001b[39;00m tensor\n",
      "Cell \u001b[0;32mIn [19], line 6\u001b[0m, in \u001b[0;36mfind_word_index\u001b[0;34m(word)\u001b[0m\n\u001b[1;32m      2\u001b[0m \u001b[39m\"\"\"\u001b[39;00m\n\u001b[1;32m      3\u001b[0m \u001b[39mLook up word index in vocabulary dictionary\u001b[39;00m\n\u001b[1;32m      4\u001b[0m \u001b[39m\"\"\"\u001b[39;00m\n\u001b[1;32m      5\u001b[0m value \u001b[39m=\u001b[39m [index \u001b[39mfor\u001b[39;00m index \u001b[39min\u001b[39;00m vocabulary_mapping\u001b[39m.\u001b[39mkeys() \u001b[39mif\u001b[39;00m vocabulary_mapping[index] \u001b[39m==\u001b[39m word]\n\u001b[0;32m----> 6\u001b[0m \u001b[39mreturn\u001b[39;00m value[\u001b[39m0\u001b[39;49m]\n",
      "\u001b[0;31mIndexError\u001b[0m: list index out of range"
     ]
    }
   ],
   "source": [
    "# predict\n",
    "result = {}\n",
    "output = predict([\"\"], rnn, 4)\n",
    "\n",
    "# print results\n",
    "print(output)\n",
    "\n"
   ]
  },
  {
   "cell_type": "code",
   "execution_count": 75,
   "metadata": {},
   "outputs": [
    {
     "data": {
      "text/plain": [
       "1"
      ]
     },
     "execution_count": 75,
     "metadata": {},
     "output_type": "execute_result"
    }
   ],
   "source": [
    "vocabulary_mapping[1261]\n",
    "list_of_vocab[\"nor\"]"
   ]
  },
  {
   "cell_type": "markdown",
   "metadata": {},
   "source": [
    "### Evalutation"
   ]
  },
  {
   "cell_type": "code",
   "execution_count": null,
   "metadata": {},
   "outputs": [],
   "source": []
  }
 ],
 "metadata": {
  "kernelspec": {
   "display_name": "Python 3.10.8 ('.venv': venv)",
   "language": "python",
   "name": "python3"
  },
  "language_info": {
   "codemirror_mode": {
    "name": "ipython",
    "version": 3
   },
   "file_extension": ".py",
   "mimetype": "text/x-python",
   "name": "python",
   "nbconvert_exporter": "python",
   "pygments_lexer": "ipython3",
   "version": "3.10.8"
  },
  "orig_nbformat": 4,
  "vscode": {
   "interpreter": {
    "hash": "5e65760c262d5713fae1aa5f5c026ded1a51727bf6811c13a452d385d1e43469"
   }
  }
 },
 "nbformat": 4,
 "nbformat_minor": 2
}
