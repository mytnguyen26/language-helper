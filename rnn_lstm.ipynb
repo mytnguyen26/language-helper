{
 "cells": [
  {
   "cell_type": "code",
   "execution_count": 1,
   "metadata": {},
   "outputs": [
    {
     "name": "stderr",
     "output_type": "stream",
     "text": [
      "/Users/mynguyen/Repos/language-helper/.venv/lib/python3.10/site-packages/tqdm/auto.py:22: TqdmWarning: IProgress not found. Please update jupyter and ipywidgets. See https://ipywidgets.readthedocs.io/en/stable/user_install.html\n",
      "  from .autonotebook import tqdm as notebook_tqdm\n"
     ]
    }
   ],
   "source": [
    "from language_helper.data import Processing\n",
    "from language_helper.rnn.model import RNN, LSTM\n",
    "from language_helper.rnn.predict import PredictRNN, PredictLSTM\n",
    "from language_helper.rnn.encode import EncodeUtility\n",
    "from language_helper.rnn.train import TrainingRNN, TrainingLSTM\n",
    "from torch.nn import CrossEntropyLoss"
   ]
  },
  {
   "cell_type": "markdown",
   "metadata": {},
   "source": [
    "## Data"
   ]
  },
  {
   "cell_type": "code",
   "execution_count": 2,
   "metadata": {},
   "outputs": [
    {
     "name": "stderr",
     "output_type": "stream",
     "text": [
      "[nltk_data] Downloading package punkt to /Users/mynguyen/nltk_data...\n",
      "[nltk_data]   Package punkt is already up-to-date!\n"
     ]
    },
    {
     "name": "stdout",
     "output_type": "stream",
     "text": [
      "Loading...<_io.TextIOWrapper name='./dataset/qa/S09_question_answer_pairs.txt' mode='r' encoding='UTF-8'>\n",
      "825 rows and 6 columns appended\n",
      "Loading...<_io.TextIOWrapper name='./dataset/qa/S08_question_answer_pairs.txt' mode='r' encoding='UTF-8'>\n",
      "1715 rows and 6 columns appended\n",
      "Completed: 2540 rows and 6 columns loaded\n",
      "Columns Index(['ArticleTitle', 'Question', 'Answer', 'DifficultyFromQuestioner',\n",
      "       'DifficultyFromAnswerer', 'ArticleFile'],\n",
      "      dtype='object')\n",
      "Size of Vocab: 3467\n",
      "Size of Dataset: 1626\n"
     ]
    }
   ],
   "source": [
    "# Loading Data\n",
    "processor = Processing(data_domain=\"qa\", delimiter=\"\\t\")\n",
    "dataframe = processor.load()\n",
    "processor.prepare(dataframe, \"question\")\n",
    "\n",
    "print(f\"Size of Vocab: {len(processor.vocabulary_mapping)}\")\n",
    "print(f\"Size of Dataset: {len(processor.list_of_tokens)}\")"
   ]
  },
  {
   "cell_type": "markdown",
   "metadata": {},
   "source": [
    "## Vanilla RNN"
   ]
  },
  {
   "cell_type": "code",
   "execution_count": 3,
   "metadata": {},
   "outputs": [],
   "source": [
    "# start training\n",
    "model = RNN(input_size = len(processor.vocabulary_mapping), \n",
    "            hidden_size=128,\n",
    "            output_size=len(processor.vocabulary_mapping))\n",
    "\n",
    "# trainer\n",
    "trainer = TrainingRNN(model=model, \\\n",
    "                    criterion=CrossEntropyLoss(), \\\n",
    "                    training_set=processor.list_of_tokens, \\\n",
    "                    encode = EncodeUtility(vocabulary_mapping= processor.vocabulary_mapping), \\\n",
    "                    n_iterations=1000, \\\n",
    "                    learning_rate=0.001)"
   ]
  },
  {
   "cell_type": "code",
   "execution_count": null,
   "metadata": {},
   "outputs": [],
   "source": [
    "trainer.run()\n",
    "trainer.plot()"
   ]
  },
  {
   "cell_type": "code",
   "execution_count": null,
   "metadata": {},
   "outputs": [],
   "source": [
    "# Predict\n",
    "\n",
    "input = \"is\"\n",
    "predicted_string = PredictRNN.predict(input_sentence=input, \n",
    "                        rnn=model, \n",
    "                        encode=EncodeUtility(vocabulary_mapping=processor.vocabulary_mapping), \n",
    "                        hidden_size=128, \n",
    "                        vocabulary_mapping=processor.vocabulary_mapping, output_length=4)\n",
    "print(f\"Resulted String: {' '.join([input] + predicted_string)}\")"
   ]
  },
  {
   "cell_type": "code",
   "execution_count": null,
   "metadata": {},
   "outputs": [],
   "source": [
    "# save model checkpoint\n",
    "trainer.save_checkpoint()"
   ]
  },
  {
   "cell_type": "markdown",
   "metadata": {},
   "source": [
    "## LSTM"
   ]
  },
  {
   "cell_type": "code",
   "execution_count": 9,
   "metadata": {},
   "outputs": [],
   "source": [
    "lstm = LSTM(input_size = len(processor.vocabulary_mapping), \n",
    "            hidden_size=128,\n",
    "            layer_size=2,\n",
    "            output_size=len(processor.vocabulary_mapping))\n",
    "            \n",
    "trainer_lstm = TrainingLSTM(model=lstm, \\\n",
    "                criterion=CrossEntropyLoss(), \\\n",
    "                training_set=processor.list_of_tokens, \\\n",
    "                encode = EncodeUtility(vocabulary_mapping= processor.vocabulary_mapping), \\\n",
    "                n_iterations=1000, \\\n",
    "                learning_rate=0.001)"
   ]
  },
  {
   "cell_type": "code",
   "execution_count": 11,
   "metadata": {},
   "outputs": [],
   "source": [
    "trainer_lstm.run()\n",
    "trainer_lstm.plot()"
   ]
  },
  {
   "cell_type": "code",
   "execution_count": null,
   "metadata": {},
   "outputs": [],
   "source": []
  }
 ],
 "metadata": {
  "kernelspec": {
   "display_name": "Python 3.10.8 ('.venv': venv)",
   "language": "python",
   "name": "python3"
  },
  "language_info": {
   "codemirror_mode": {
    "name": "ipython",
    "version": 3
   },
   "file_extension": ".py",
   "mimetype": "text/x-python",
   "name": "python",
   "nbconvert_exporter": "python",
   "pygments_lexer": "ipython3",
   "version": "3.10.8"
  },
  "orig_nbformat": 4,
  "vscode": {
   "interpreter": {
    "hash": "5e65760c262d5713fae1aa5f5c026ded1a51727bf6811c13a452d385d1e43469"
   }
  }
 },
 "nbformat": 4,
 "nbformat_minor": 2
}
